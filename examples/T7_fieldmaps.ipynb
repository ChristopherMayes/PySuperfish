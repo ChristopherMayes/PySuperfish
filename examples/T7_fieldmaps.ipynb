{
 "cells": [
  {
   "cell_type": "code",
   "execution_count": 1,
   "metadata": {},
   "outputs": [],
   "source": [
    "# Useful for debugging\n",
    "%load_ext autoreload\n",
    "%autoreload 2\n",
    "\n",
    "# Nicer plotting\n",
    "import matplotlib.pyplot as plt\n",
    "%config InlineBackend.figure_format = 'retina'"
   ]
  },
  {
   "cell_type": "markdown",
   "metadata": {},
   "source": [
    "# T7 Fieldmaps"
   ]
  },
  {
   "cell_type": "code",
   "execution_count": 2,
   "metadata": {},
   "outputs": [],
   "source": [
    "from superfish.parsers import parse_fish_t7\n",
    "from superfish.writers import write_fish_t7\n",
    "from superfish.plot import add_t7data_to_axes\n",
    "import numpy as np\n",
    "import os"
   ]
  },
  {
   "cell_type": "code",
   "execution_count": 3,
   "metadata": {},
   "outputs": [
    {
     "data": {
      "text/plain": [
       "{'geometry': 'cylindrical',\n",
       " 'problem': 'fish',\n",
       " 'zmin': 50.0,\n",
       " 'zmax': 70.0,\n",
       " 'nz': 100,\n",
       " 'freq': 176.5822580375,\n",
       " 'rmin': 0.0,\n",
       " 'rmax': 3.0,\n",
       " 'nr': 20,\n",
       " 'Ez': array([[3.02670741e+01, 3.02220828e+01, 3.00923434e+01, ...,\n",
       "         1.41376160e-07, 1.07344565e-07, 8.17850871e-08],\n",
       "        [3.02809359e+01, 3.02350479e+01, 3.01031909e+01, ...,\n",
       "         1.39859777e-07, 1.06889330e-07, 8.10315223e-08],\n",
       "        [3.03229107e+01, 3.02741607e+01, 3.01352575e+01, ...,\n",
       "         1.40368970e-07, 1.06630703e-07, 8.12896846e-08],\n",
       "        ...,\n",
       "        [3.18218320e+01, 3.11930664e+01, 3.06117308e+01, ...,\n",
       "         0.00000000e+00, 0.00000000e+00, 0.00000000e+00],\n",
       "        [3.16985113e+01, 3.10707531e+01, 3.04893085e+01, ...,\n",
       "         0.00000000e+00, 0.00000000e+00, 0.00000000e+00],\n",
       "        [3.15524696e+01, 3.09262280e+01, 3.03463621e+01, ...,\n",
       "         0.00000000e+00, 0.00000000e+00, 0.00000000e+00]]),\n",
       " 'Er': array([[0.00000000e+00, 0.00000000e+00, 0.00000000e+00, ...,\n",
       "         0.00000000e+00, 0.00000000e+00, 0.00000000e+00],\n",
       "        [0.00000000e+00, 3.51232301e-02, 6.63132075e-02, ...,\n",
       "         1.53672108e-08, 1.18531988e-08, 9.13240511e-09],\n",
       "        [0.00000000e+00, 7.22871576e-02, 1.35720536e-01, ...,\n",
       "         3.07489550e-08, 2.36843554e-08, 1.82742297e-08],\n",
       "        ...,\n",
       "        [3.39985389e+00, 3.27541907e+00, 3.14379075e+00, ...,\n",
       "         0.00000000e+00, 0.00000000e+00, 0.00000000e+00],\n",
       "        [3.70687788e+00, 3.55248373e+00, 3.39353521e+00, ...,\n",
       "         0.00000000e+00, 0.00000000e+00, 0.00000000e+00],\n",
       "        [4.01058964e+00, 3.82474333e+00, 3.63929366e+00, ...,\n",
       "         0.00000000e+00, 0.00000000e+00, 0.00000000e+00]]),\n",
       " 'E': array([[3.02670741e+01, 3.02220828e+01, 3.00923434e+01, ...,\n",
       "         1.41376160e-07, 1.07344565e-07, 8.17850871e-08],\n",
       "        [3.02809359e+01, 3.02350683e+01, 3.01032640e+01, ...,\n",
       "         1.40701487e-07, 1.07544536e-07, 8.15445181e-08],\n",
       "        [3.03229107e+01, 3.02742470e+01, 3.01355631e+01, ...,\n",
       "         1.43697411e-07, 1.09229371e-07, 8.33184271e-08],\n",
       "        ...,\n",
       "        [3.20029373e+01, 3.13645622e+01, 3.07727393e+01, ...,\n",
       "         0.00000000e+00, 0.00000000e+00, 0.00000000e+00],\n",
       "        [3.19145196e+01, 3.12731808e+01, 3.06775816e+01, ...,\n",
       "         0.00000000e+00, 0.00000000e+00, 0.00000000e+00],\n",
       "        [3.18063384e+01, 3.11618395e+01, 3.05638046e+01, ...,\n",
       "         0.00000000e+00, 0.00000000e+00, 0.00000000e+00]]),\n",
       " 'Hphi': array([[0.00000000e+00, 0.00000000e+00, 0.00000000e+00, ...,\n",
       "         0.00000000e+00, 0.00000000e+00, 0.00000000e+00],\n",
       "        [2.34792374e+02, 2.34439998e+02, 2.33425781e+02, ...,\n",
       "         1.08443596e-06, 8.30934318e-07, 6.29286203e-07],\n",
       "        [4.69907392e+02, 4.69181317e+02, 4.67100278e+02, ...,\n",
       "         2.17169400e-06, 1.65036612e-06, 1.26112907e-06],\n",
       "        ...,\n",
       "        [4.18080661e+03, 4.11451858e+03, 4.05082896e+03, ...,\n",
       "         0.00000000e+00, 0.00000000e+00, 0.00000000e+00],\n",
       "        [4.42751929e+03, 4.35544630e+03, 4.28652720e+03, ...,\n",
       "         0.00000000e+00, 0.00000000e+00, 0.00000000e+00],\n",
       "        [4.67217425e+03, 4.59440978e+03, 4.52035053e+03, ...,\n",
       "         0.00000000e+00, 0.00000000e+00, 0.00000000e+00]])}"
      ]
     },
     "execution_count": 3,
     "metadata": {},
     "output_type": "execute_result"
    }
   ],
   "source": [
    "T7FILE = 'data/SWIFEL.T7'\n",
    "t7data = parse_fish_t7(T7FILE)\n",
    "t7data"
   ]
  },
  {
   "cell_type": "markdown",
   "metadata": {},
   "source": [
    "# Write T7"
   ]
  },
  {
   "cell_type": "code",
   "execution_count": 4,
   "metadata": {},
   "outputs": [
    {
     "data": {
      "text/plain": [
       "'TEST.T7'"
      ]
     },
     "execution_count": 4,
     "metadata": {},
     "output_type": "execute_result"
    }
   ],
   "source": [
    "# Write, and read again\n",
    "write_fish_t7('TEST.T7', t7data)"
   ]
  },
  {
   "cell_type": "code",
   "execution_count": 5,
   "metadata": {},
   "outputs": [
    {
     "name": "stdout",
     "output_type": "stream",
     "text": [
      "geometry True\n",
      "problem True\n",
      "zmin True\n",
      "zmax True\n",
      "nz True\n",
      "freq True\n",
      "rmin True\n",
      "rmax True\n",
      "nr True\n",
      "Ez True\n",
      "Er True\n",
      "E True\n",
      "Hphi True\n"
     ]
    }
   ],
   "source": [
    "# Check that the data is the same\n",
    "\n",
    "t7data2 = parse_fish_t7('TEST.T7')\n",
    "\n",
    "for key in t7data:\n",
    "    same = np.all(t7data2[key] == t7data[key])\n",
    "    print(key, same)"
   ]
  },
  {
   "cell_type": "code",
   "execution_count": 6,
   "metadata": {},
   "outputs": [],
   "source": [
    "os.remove('TEST.T7')"
   ]
  }
 ],
 "metadata": {
  "kernelspec": {
   "display_name": "Python 3",
   "language": "python",
   "name": "python3"
  },
  "language_info": {
   "codemirror_mode": {
    "name": "ipython",
    "version": 3
   },
   "file_extension": ".py",
   "mimetype": "text/x-python",
   "name": "python",
   "nbconvert_exporter": "python",
   "pygments_lexer": "ipython3",
   "version": "3.8.5"
  }
 },
 "nbformat": 4,
 "nbformat_minor": 4
}
