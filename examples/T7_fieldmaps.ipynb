{
 "cells": [
  {
   "cell_type": "code",
   "execution_count": 1,
   "metadata": {},
   "outputs": [],
   "source": [
    "# Useful for debugging\n",
    "%load_ext autoreload\n",
    "%autoreload 2\n",
    "\n",
    "# Nicer plotting\n",
    "import matplotlib.pyplot as plt\n",
    "%config InlineBackend.figure_format = 'retina'"
   ]
  },
  {
   "cell_type": "markdown",
   "metadata": {},
   "source": [
    "# FISH T7 Fieldmaps"
   ]
  },
  {
   "cell_type": "code",
   "execution_count": 2,
   "metadata": {},
   "outputs": [],
   "source": [
    "from superfish.parsers import parse_fish_t7\n",
    "from superfish.writers import write_fish_t7\n",
    "import numpy as np\n",
    "import os"
   ]
  },
  {
   "cell_type": "code",
   "execution_count": 3,
   "metadata": {},
   "outputs": [
    {
     "data": {
      "text/plain": [
       "{'geometry': 'cylindrical',\n",
       " 'problem': 'fish',\n",
       " 'zmin': 50.0,\n",
       " 'zmax': 70.0,\n",
       " 'nz': 100,\n",
       " 'freq': 175.715180667,\n",
       " 'rmin': 0.0,\n",
       " 'rmax': 3.0,\n",
       " 'nr': 20,\n",
       " 'Ez': array([[3.02739133e+01, 3.02278814e+01, 3.00948875e+01, ...,\n",
       "         8.80424503e-07, 6.76036685e-07, 5.21243433e-07],\n",
       "        [3.02880937e+01, 3.02411865e+01, 3.01061286e+01, ...,\n",
       "         8.73490637e-07, 6.74490406e-07, 5.17212368e-07],\n",
       "        [3.03309919e+01, 3.02812936e+01, 3.01393566e+01, ...,\n",
       "         8.83434304e-07, 6.76334854e-07, 5.20331109e-07],\n",
       "        ...,\n",
       "        [3.22323840e+01, 3.16224100e+01, 3.10386473e+01, ...,\n",
       "         0.00000000e+00, 0.00000000e+00, 0.00000000e+00],\n",
       "        [3.22017542e+01, 3.15850941e+01, 3.09952313e+01, ...,\n",
       "         0.00000000e+00, 0.00000000e+00, 0.00000000e+00],\n",
       "        [3.21545950e+01, 3.15327255e+01, 3.09379688e+01, ...,\n",
       "         0.00000000e+00, 0.00000000e+00, 0.00000000e+00]]),\n",
       " 'Er': array([[0.00000000e+00, 0.00000000e+00, 0.00000000e+00, ...,\n",
       "         0.00000000e+00, 0.00000000e+00, 0.00000000e+00],\n",
       "        [0.00000000e+00, 3.59374512e-02, 6.80496236e-02, ...,\n",
       "         9.23978802e-08, 7.15862202e-08, 5.56034868e-08],\n",
       "        [0.00000000e+00, 7.38651768e-02, 1.39126033e-01, ...,\n",
       "         1.86415422e-07, 1.44098977e-07, 1.11921364e-07],\n",
       "        ...,\n",
       "        [3.17875011e+00, 3.15589765e+00, 3.12475506e+00, ...,\n",
       "         0.00000000e+00, 0.00000000e+00, 0.00000000e+00],\n",
       "        [3.48135443e+00, 3.43648700e+00, 3.38702569e+00, ...,\n",
       "         0.00000000e+00, 0.00000000e+00, 0.00000000e+00],\n",
       "        [3.77967642e+00, 3.71644382e+00, 3.64928358e+00, ...,\n",
       "         0.00000000e+00, 0.00000000e+00, 0.00000000e+00]]),\n",
       " 'E': array([[3.02739133e+01, 3.02278814e+01, 3.00948875e+01, ...,\n",
       "         8.80424503e-07, 6.76036685e-07, 5.21243433e-07],\n",
       "        [3.02880937e+01, 3.02412079e+01, 3.01062055e+01, ...,\n",
       "         8.78363969e-07, 6.78278626e-07, 5.20192639e-07],\n",
       "        [3.03309919e+01, 3.02813837e+01, 3.01396777e+01, ...,\n",
       "         9.02888077e-07, 6.91515256e-07, 5.32231955e-07],\n",
       "        ...,\n",
       "        [3.23887485e+01, 3.17794982e+01, 3.11955400e+01, ...,\n",
       "         0.00000000e+00, 0.00000000e+00, 0.00000000e+00],\n",
       "        [3.23893933e+01, 3.17714905e+01, 3.11797419e+01, ...,\n",
       "         0.00000000e+00, 0.00000000e+00, 0.00000000e+00],\n",
       "        [3.23759777e+01, 3.17509800e+01, 3.11524507e+01, ...,\n",
       "         0.00000000e+00, 0.00000000e+00, 0.00000000e+00]]),\n",
       " 'Hphi': array([[0.00000000e+00, 0.00000000e+00, 0.00000000e+00, ...,\n",
       "         0.00000000e+00, 0.00000000e+00, 0.00000000e+00],\n",
       "        [2.33693490e+02, 2.33334898e+02, 2.32300760e+02, ...,\n",
       "         6.72955588e-06, 5.21148987e-06, 3.99447413e-06],\n",
       "        [4.67715237e+02, 4.66977360e+02, 4.64857988e+02, ...,\n",
       "         1.35249802e-05, 1.03789596e-05, 8.01430676e-06],\n",
       "        ...,\n",
       "        [4.17697988e+03, 4.11443034e+03, 4.05242184e+03, ...,\n",
       "         0.00000000e+00, 0.00000000e+00, 0.00000000e+00],\n",
       "        [4.42840922e+03, 4.36013242e+03, 4.29276186e+03, ...,\n",
       "         0.00000000e+00, 0.00000000e+00, 0.00000000e+00],\n",
       "        [4.67895651e+03, 4.60496902e+03, 4.53224395e+03, ...,\n",
       "         0.00000000e+00, 0.00000000e+00, 0.00000000e+00]])}"
      ]
     },
     "execution_count": 3,
     "metadata": {},
     "output_type": "execute_result"
    }
   ],
   "source": [
    "T7FILE = 'data/SWIFEL.T7'\n",
    "t7data = parse_fish_t7(T7FILE)\n",
    "t7data"
   ]
  },
  {
   "cell_type": "markdown",
   "metadata": {},
   "source": [
    "## Check"
   ]
  },
  {
   "cell_type": "code",
   "execution_count": 4,
   "metadata": {},
   "outputs": [],
   "source": [
    "# Write, and read again\n",
    "DAT = write_fish_t7('TEST.T7', t7data)"
   ]
  },
  {
   "cell_type": "code",
   "execution_count": 5,
   "metadata": {},
   "outputs": [
    {
     "name": "stdout",
     "output_type": "stream",
     "text": [
      "geometry True\n",
      "problem True\n",
      "zmin True\n",
      "zmax True\n",
      "nz True\n",
      "freq True\n",
      "rmin True\n",
      "rmax True\n",
      "nr True\n",
      "Ez True\n",
      "Er True\n",
      "E True\n",
      "Hphi True\n"
     ]
    }
   ],
   "source": [
    "# Check that the data is the same\n",
    "\n",
    "t7data2 = parse_fish_t7('TEST.T7')\n",
    "\n",
    "for key in t7data:\n",
    "    same = np.all(t7data2[key] == t7data[key])\n",
    "    assert same\n",
    "    print(key, same)"
   ]
  },
  {
   "cell_type": "markdown",
   "metadata": {},
   "source": [
    "# Poisson T7 Fieldmaps\n",
    "\n",
    "Similar to above. Note that 'magnetic' or 'electric' types need to be specified when reading."
   ]
  },
  {
   "cell_type": "code",
   "execution_count": 6,
   "metadata": {},
   "outputs": [],
   "source": [
    "from superfish.parsers import parse_poisson_t7\n",
    "from superfish.writers import write_poisson_t7"
   ]
  },
  {
   "cell_type": "code",
   "execution_count": 7,
   "metadata": {},
   "outputs": [
    {
     "data": {
      "text/plain": [
       "{'geometry': 'cylindrical',\n",
       " 'problem': 'poisson',\n",
       " 'rmin': 0.0,\n",
       " 'rmax': 10.0,\n",
       " 'nr': 101,\n",
       " 'zmin': -10.0,\n",
       " 'zmax': 10.0,\n",
       " 'nz': 201,\n",
       " 'Br': array([[ 0.00000000e+00,  0.00000000e+00,  0.00000000e+00, ...,\n",
       "          0.00000000e+00,  0.00000000e+00,  0.00000000e+00],\n",
       "        [-1.86021515e-01, -1.98228061e-01, -2.11251068e-01, ...,\n",
       "          7.49773275e-02,  6.29602082e-02,  5.27890059e-02],\n",
       "        [-3.71423187e-01, -3.95717017e-01, -4.21660917e-01, ...,\n",
       "          1.48339954e-01,  1.24479362e-01,  1.04323819e-01],\n",
       "        ...,\n",
       "        [-6.12408550e-01, -6.14433676e-01, -6.16085207e-01, ...,\n",
       "          1.11626967e-10,  1.09118721e-10,  9.46532222e-11],\n",
       "        [-5.93518361e-01, -5.95267418e-01, -5.96652761e-01, ...,\n",
       "          1.07262393e-10,  1.06662983e-10,  9.44868550e-11],\n",
       "        [-5.75270091e-01, -5.76763994e-01, -5.77905326e-01, ...,\n",
       "          1.02103807e-10,  1.03393157e-10,  9.30441005e-11]]),\n",
       " 'Bz': array([[ 7.65959886e+00,  8.04374917e+00,  8.45329421e+00, ...,\n",
       "          8.72354204e-01,  7.34330682e-01,  6.18397643e-01],\n",
       "        [ 7.65357745e+00,  8.03736101e+00,  8.44633432e+00, ...,\n",
       "          8.65713606e-01,  7.28653216e-01,  6.13630257e-01],\n",
       "        [ 7.63577324e+00,  8.01810445e+00,  8.42556363e+00, ...,\n",
       "          8.45923012e-01,  7.11921060e-01,  5.99497312e-01],\n",
       "        ...,\n",
       "        [-1.59605243e-01, -1.72701305e-01, -1.86077639e-01, ...,\n",
       "         -3.13341005e-10, -3.10928520e-10, -3.15584145e-10],\n",
       "        [-1.61719437e-01, -1.74409021e-01, -1.87347163e-01, ...,\n",
       "         -3.05571168e-10, -3.03031394e-10, -3.05998909e-10],\n",
       "        [-1.63564604e-01, -1.75849645e-01, -1.88380000e-01, ...,\n",
       "         -2.97022710e-10, -2.94200090e-10, -2.96029233e-10]])}"
      ]
     },
     "execution_count": 7,
     "metadata": {},
     "output_type": "execute_result"
    }
   ],
   "source": [
    "t7data = parse_poisson_t7('data/SOLENOID.T7', type='magnetic')\n",
    "t7data"
   ]
  },
  {
   "cell_type": "code",
   "execution_count": 8,
   "metadata": {},
   "outputs": [
    {
     "data": {
      "text/plain": [
       "{'geometry': 'cylindrical',\n",
       " 'problem': 'poisson',\n",
       " 'rmin': 0.0,\n",
       " 'rmax': 10.0,\n",
       " 'nr': 101,\n",
       " 'zmin': -10.0,\n",
       " 'zmax': 10.0,\n",
       " 'nz': 201,\n",
       " 'Br': array([[ 0.00000000e+00,  0.00000000e+00,  0.00000000e+00, ...,\n",
       "          0.00000000e+00,  0.00000000e+00,  0.00000000e+00],\n",
       "        [-1.86021515e-01, -1.98228061e-01, -2.11251068e-01, ...,\n",
       "          7.49773275e-02,  6.29602082e-02,  5.27890059e-02],\n",
       "        [-3.71423187e-01, -3.95717017e-01, -4.21660917e-01, ...,\n",
       "          1.48339954e-01,  1.24479362e-01,  1.04323819e-01],\n",
       "        ...,\n",
       "        [-6.12408550e-01, -6.14433676e-01, -6.16085207e-01, ...,\n",
       "          1.11626967e-10,  1.09118721e-10,  9.46532222e-11],\n",
       "        [-5.93518361e-01, -5.95267418e-01, -5.96652761e-01, ...,\n",
       "          1.07262393e-10,  1.06662983e-10,  9.44868550e-11],\n",
       "        [-5.75270091e-01, -5.76763994e-01, -5.77905326e-01, ...,\n",
       "          1.02103807e-10,  1.03393157e-10,  9.30441005e-11]]),\n",
       " 'Bz': array([[ 7.65959886e+00,  8.04374917e+00,  8.45329421e+00, ...,\n",
       "          8.72354204e-01,  7.34330682e-01,  6.18397643e-01],\n",
       "        [ 7.65357745e+00,  8.03736101e+00,  8.44633432e+00, ...,\n",
       "          8.65713606e-01,  7.28653216e-01,  6.13630257e-01],\n",
       "        [ 7.63577324e+00,  8.01810445e+00,  8.42556363e+00, ...,\n",
       "          8.45923012e-01,  7.11921060e-01,  5.99497312e-01],\n",
       "        ...,\n",
       "        [-1.59605243e-01, -1.72701305e-01, -1.86077639e-01, ...,\n",
       "         -3.13341005e-10, -3.10928520e-10, -3.15584145e-10],\n",
       "        [-1.61719437e-01, -1.74409021e-01, -1.87347163e-01, ...,\n",
       "         -3.05571168e-10, -3.03031394e-10, -3.05998909e-10],\n",
       "        [-1.63564604e-01, -1.75849645e-01, -1.88380000e-01, ...,\n",
       "         -2.97022710e-10, -2.94200090e-10, -2.96029233e-10]])}"
      ]
     },
     "execution_count": 8,
     "metadata": {},
     "output_type": "execute_result"
    }
   ],
   "source": [
    "dat2 = write_poisson_t7('TEST.T7', t7data)\n",
    "t7data2 = parse_poisson_t7('TEST.T7', type='magnetic')\n",
    "t7data2"
   ]
  },
  {
   "cell_type": "code",
   "execution_count": 9,
   "metadata": {},
   "outputs": [
    {
     "name": "stdout",
     "output_type": "stream",
     "text": [
      "geometry True\n",
      "problem True\n",
      "rmin True\n",
      "rmax True\n",
      "nr True\n",
      "zmin True\n",
      "zmax True\n",
      "nz True\n",
      "Br True\n",
      "Bz True\n"
     ]
    }
   ],
   "source": [
    "for key in t7data:\n",
    "    same = np.all(t7data2[key] == t7data[key])\n",
    "    assert same\n",
    "    print(key, same)"
   ]
  },
  {
   "cell_type": "markdown",
   "metadata": {},
   "source": [
    "# Cleanup"
   ]
  },
  {
   "cell_type": "code",
   "execution_count": 10,
   "metadata": {},
   "outputs": [],
   "source": [
    "os.remove('TEST.T7')"
   ]
  },
  {
   "cell_type": "code",
   "execution_count": null,
   "metadata": {},
   "outputs": [],
   "source": []
  }
 ],
 "metadata": {
  "kernelspec": {
   "display_name": "Python 3 (ipykernel)",
   "language": "python",
   "name": "python3"
  },
  "language_info": {
   "codemirror_mode": {
    "name": "ipython",
    "version": 3
   },
   "file_extension": ".py",
   "mimetype": "text/x-python",
   "name": "python",
   "nbconvert_exporter": "python",
   "pygments_lexer": "ipython3",
   "version": "3.12.3"
  }
 },
 "nbformat": 4,
 "nbformat_minor": 4
}
