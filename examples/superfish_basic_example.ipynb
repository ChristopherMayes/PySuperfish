{
 "cells": [
  {
   "cell_type": "code",
   "execution_count": 1,
   "metadata": {},
   "outputs": [],
   "source": [
    "# Useful for debugging\n",
    "%load_ext autoreload\n",
    "%autoreload 2"
   ]
  },
  {
   "cell_type": "markdown",
   "metadata": {},
   "source": [
    "# pySuperfish Basic Example"
   ]
  },
  {
   "cell_type": "code",
   "execution_count": 2,
   "metadata": {},
   "outputs": [],
   "source": [
    "import sys, os\n",
    "sys.path.append('C:\\\\Users\\\\Chris\\\\GitHub\\\\pySuperfish')"
   ]
  },
  {
   "cell_type": "code",
   "execution_count": 3,
   "metadata": {},
   "outputs": [],
   "source": [
    "from superfish import Superfish"
   ]
  },
  {
   "cell_type": "code",
   "execution_count": 4,
   "metadata": {},
   "outputs": [
    {
     "data": {
      "text/plain": [
       "True"
      ]
     },
     "execution_count": 4,
     "metadata": {},
     "output_type": "execute_result"
    }
   ],
   "source": [
    "AMFILE = 'data\\\\swifel_7.0_cm_gap_2_cm_pipe.am'\n",
    "os.path.exists(AMFILE)\n"
   ]
  },
  {
   "cell_type": "code",
   "execution_count": 5,
   "metadata": {},
   "outputs": [],
   "source": [
    "SF = Superfish(AMFILE, verbose=True)"
   ]
  },
  {
   "cell_type": "code",
   "execution_count": 6,
   "metadata": {},
   "outputs": [
    {
     "name": "stdout",
     "output_type": "stream",
     "text": [
      "Configured to run in: C:\\Users\\Chris\\AppData\\Local\\Temp\\tmpgsrw73bf\n"
     ]
    }
   ],
   "source": [
    "SF.configure()"
   ]
  },
  {
   "cell_type": "code",
   "execution_count": 7,
   "metadata": {},
   "outputs": [
    {
     "name": "stdout",
     "output_type": "stream",
     "text": [
      "Running C:\\LANL\\AUTOFISH.EXE SWIFEL_7.0_CM_GAP_2_CM_PIPE.AM in C:\\Users\\Chris\\AppData\\Local\\Temp\\tmpgsrw73bf\n",
      "Done in      71.88 seconds\n",
      "Parsed output: C:\\Users\\Chris\\AppData\\Local\\Temp\\tmpgsrw73bf\\SWIFEL_7.0_CM_GAP_2_CM_PIPE.SFO\n"
     ]
    }
   ],
   "source": [
    "# Run, should take about a minute\n",
    "SF.run()"
   ]
  },
  {
   "cell_type": "code",
   "execution_count": 8,
   "metadata": {},
   "outputs": [
    {
     "name": "stdout",
     "output_type": "stream",
     "text": [
      "Parsed output: C:\\Users\\Chris\\AppData\\Local\\Temp\\tmpgsrw73bf\\SWIFEL_7.0_CM_GAP_2_CM_PIPE.SFO\n"
     ]
    }
   ],
   "source": [
    "# This is automatically done above\n",
    "SF.load_output()"
   ]
  },
  {
   "cell_type": "markdown",
   "metadata": {},
   "source": [
    "# SFO Output"
   ]
  },
  {
   "cell_type": "code",
   "execution_count": 9,
   "metadata": {},
   "outputs": [
    {
     "data": {
      "text/plain": [
       "dict_keys(['sfo'])"
      ]
     },
     "execution_count": 9,
     "metadata": {},
     "output_type": "execute_result"
    }
   ],
   "source": [
    "SF.output.keys()"
   ]
  },
  {
   "cell_type": "code",
   "execution_count": 10,
   "metadata": {},
   "outputs": [
    {
     "data": {
      "text/plain": [
       "dict_keys(['wall_segments', 'other', 'summary'])"
      ]
     },
     "execution_count": 10,
     "metadata": {},
     "output_type": "execute_result"
    }
   ],
   "source": [
    "SF.output['sfo'].keys()"
   ]
  },
  {
   "cell_type": "code",
   "execution_count": 11,
   "metadata": {},
   "outputs": [
    {
     "data": {
      "text/plain": [
       "{'type': 'summary',\n",
       " 'data': {'Field normalization (NORM': 30.0,\n",
       "  'for the integration path from point Z1,R1': 50.5,\n",
       "  'to ending point                     Z2,R2': 50.51,\n",
       "  'Frequency': 184.64893,\n",
       "  'Particle rest mass energy': 0.510999,\n",
       "  'Beta': 1.126,\n",
       "  'Normalization factor for E0': 69392.017,\n",
       "  'Transit-time factor': 0.9954521,\n",
       "  'Stored energy': 25.6401094,\n",
       "  'Superconductor surface resistance': 23.2674,\n",
       "  'Operating temperature': 4.2,\n",
       "  'Power dissipation': 8915.2681,\n",
       "  'Q': 1836220.269,\n",
       "  'Rs*Q': 1819556.237,\n",
       "  'r/Q': 0.03638,\n",
       "  'Average magnetic field on the outer wall': 16175.6,\n",
       "  'Maximum H (at Z,R': 34527.2,\n",
       "  'Maximum E (at Z,R': 41.0329,\n",
       "  'Ratio of peak fields Bmax/Emax': 1.0574,\n",
       "  'Peak-to-average ratio Emax/E0': 4.8637},\n",
       " 'units': {'Field normalization (NORM': 'MV/m',\n",
       "  'for the integration path from point Z1,R1': 'cm,',\n",
       "  'to ending point                     Z2,R2': 'cm,',\n",
       "  'Frequency': 'MHz',\n",
       "  'Particle rest mass energy': 'MeV',\n",
       "  'Beta': 'MeV',\n",
       "  'Normalization factor for E0': '',\n",
       "  'Transit-time factor': '',\n",
       "  'Stored energy': 'Joules',\n",
       "  'Superconductor surface resistance': 'nanoOhm',\n",
       "  'Operating temperature': 'K',\n",
       "  'Power dissipation': 'mW',\n",
       "  'Q': 'MOhm/m',\n",
       "  'Rs*Q': 'MOhm/m',\n",
       "  'r/Q': 'V/pC',\n",
       "  'Average magnetic field on the outer wall': 'A/m,',\n",
       "  'Maximum H (at Z,R': 'A/m,',\n",
       "  'Maximum E (at Z,R': 'MV/m,',\n",
       "  'Ratio of peak fields Bmax/Emax': 'mT/(MV/m)',\n",
       "  'Peak-to-average ratio Emax/E0': ''}}"
      ]
     },
     "execution_count": 11,
     "metadata": {},
     "output_type": "execute_result"
    }
   ],
   "source": [
    "SF.output['sfo']['summary']"
   ]
  },
  {
   "cell_type": "code",
   "execution_count": 12,
   "metadata": {},
   "outputs": [
    {
     "data": {
      "text/plain": [
       "{'Field normalization (NORM': 30.0,\n",
       " 'for the integration path from point Z1,R1': 50.5,\n",
       " 'to ending point                     Z2,R2': 50.51,\n",
       " 'Frequency': 184.64893,\n",
       " 'Particle rest mass energy': 0.510999,\n",
       " 'Beta': 1.126,\n",
       " 'Normalization factor for E0': 69392.017,\n",
       " 'Transit-time factor': 0.9954521,\n",
       " 'Stored energy': 25.6401094,\n",
       " 'Superconductor surface resistance': 23.2674,\n",
       " 'Operating temperature': 4.2,\n",
       " 'Power dissipation': 8915.2681,\n",
       " 'Q': 1836220.269,\n",
       " 'Rs*Q': 1819556.237,\n",
       " 'r/Q': 0.03638,\n",
       " 'Average magnetic field on the outer wall': 16175.6,\n",
       " 'Maximum H (at Z,R': 34527.2,\n",
       " 'Maximum E (at Z,R': 41.0329,\n",
       " 'Ratio of peak fields Bmax/Emax': 1.0574,\n",
       " 'Peak-to-average ratio Emax/E0': 4.8637}"
      ]
     },
     "execution_count": 12,
     "metadata": {},
     "output_type": "execute_result"
    }
   ],
   "source": [
    "SF.output['sfo']['summary']['data']"
   ]
  }
 ],
 "metadata": {
  "kernelspec": {
   "display_name": "Python 3",
   "language": "python",
   "name": "python3"
  },
  "language_info": {
   "codemirror_mode": {
    "name": "ipython",
    "version": 3
   },
   "file_extension": ".py",
   "mimetype": "text/x-python",
   "name": "python",
   "nbconvert_exporter": "python",
   "pygments_lexer": "ipython3",
   "version": "3.7.7"
  }
 },
 "nbformat": 4,
 "nbformat_minor": 4
}
