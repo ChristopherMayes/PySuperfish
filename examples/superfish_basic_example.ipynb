{
 "cells": [
  {
   "cell_type": "code",
   "execution_count": 5,
   "metadata": {},
   "outputs": [
    {
     "name": "stdout",
     "output_type": "stream",
     "text": [
      "The autoreload extension is already loaded. To reload it, use:\n",
      "  %reload_ext autoreload\n"
     ]
    }
   ],
   "source": [
    "# Useful for debugging\n",
    "%load_ext autoreload\n",
    "%autoreload 2"
   ]
  },
  {
   "cell_type": "markdown",
   "metadata": {},
   "source": [
    "# pySuperfish Basic Example"
   ]
  },
  {
   "cell_type": "code",
   "execution_count": 8,
   "metadata": {},
   "outputs": [],
   "source": [
    "import sys, os\n",
    "sys.path.append('C:\\\\Users\\\\Chris\\\\GitHub\\\\pySuperfish')"
   ]
  },
  {
   "cell_type": "code",
   "execution_count": 7,
   "metadata": {},
   "outputs": [],
   "source": [
    "from superfish import Superfish"
   ]
  },
  {
   "cell_type": "code",
   "execution_count": 9,
   "metadata": {},
   "outputs": [
    {
     "data": {
      "text/plain": [
       "True"
      ]
     },
     "execution_count": 9,
     "metadata": {},
     "output_type": "execute_result"
    }
   ],
   "source": [
    "AMFILE = 'data\\\\swifel_7.0_cm_gap_2_cm_pipe.am'\n",
    "os.path.exists(AMFILE)\n"
   ]
  },
  {
   "cell_type": "code",
   "execution_count": 13,
   "metadata": {},
   "outputs": [],
   "source": [
    "SF = Superfish(AMFILE, verbose=True)"
   ]
  },
  {
   "cell_type": "code",
   "execution_count": 15,
   "metadata": {},
   "outputs": [
    {
     "name": "stdout",
     "output_type": "stream",
     "text": [
      "Configured to run in: C:\\Users\\Chris\\AppData\\Local\\Temp\\tmpdk9t9v4e\n"
     ]
    }
   ],
   "source": [
    "SF.configure()"
   ]
  },
  {
   "cell_type": "code",
   "execution_count": 16,
   "metadata": {},
   "outputs": [
    {
     "name": "stdout",
     "output_type": "stream",
     "text": [
      "Running C:\\LANL\\AUTOFISH.EXE SWIFEL_7.0_CM_GAP_2_CM_PIPE.AM in C:\\Users\\Chris\\AppData\\Local\\Temp\\tmpdk9t9v4e\n",
      "Done in      71.97 seconds\n",
      "Parsed output: C:\\Users\\Chris\\AppData\\Local\\Temp\\tmpdk9t9v4e\\SWIFEL_7.0_CM_GAP_2_CM_PIPE.SFO\n"
     ]
    }
   ],
   "source": [
    "SF.run()"
   ]
  },
  {
   "cell_type": "markdown",
   "metadata": {},
   "source": [
    "# SFO Output"
   ]
  },
  {
   "cell_type": "code",
   "execution_count": 19,
   "metadata": {},
   "outputs": [
    {
     "data": {
      "text/plain": [
       "dict_keys(['sfo'])"
      ]
     },
     "execution_count": 19,
     "metadata": {},
     "output_type": "execute_result"
    }
   ],
   "source": [
    "SF.output.keys()"
   ]
  },
  {
   "cell_type": "code",
   "execution_count": 21,
   "metadata": {},
   "outputs": [
    {
     "data": {
      "text/plain": [
       "dict_keys(['wall_segments', 'other', 'summary'])"
      ]
     },
     "execution_count": 21,
     "metadata": {},
     "output_type": "execute_result"
    }
   ],
   "source": [
    "SF.output['sfo'].keys()"
   ]
  },
  {
   "cell_type": "code",
   "execution_count": 22,
   "metadata": {},
   "outputs": [
    {
     "data": {
      "text/plain": [
       "{'type': 'summary',\n",
       " 'data': {'Field normalization (NORM  4):     ENORM ': 30.0,\n",
       "  'for the integration path from point Z1,R1 ': [50.5, 0.0],\n",
       "  'to ending point                     Z2,R2 ': [50.51, 0.0],\n",
       "  'Frequency                                 ': 184.64893,\n",
       "  'Particle rest mass energy                 ': 0.510999,\n",
       "  'Beta   0.9500000          Kinetic energy ': 1.126,\n",
       "  'Normalization factor for E0   8.437 MV/m ': 69392.017,\n",
       "  'Transit-time factor                       ': 0.9954521,\n",
       "  'Stored energy                             ': 25.6401094,\n",
       "  'Superconductor surface resistance         ': 23.2674,\n",
       "  'Operating temperature                     ': 4.2,\n",
       "  'Power dissipation                         ': 8915.2681,\n",
       "  'Q      0.333666E+10      Shunt impedance ': 1836220.269,\n",
       "  'Rs*Q     77.635 Ohm                Z*T*T ': 1819556.237,\n",
       "  'r/Q     125.424 Ohm  Wake loss parameter ': 0.03638,\n",
       "  'Average magnetic field on the outer wall  ': [16175.6, 0.304398],\n",
       "  'Maximum H (at Z,R  26.2446,18.1086)      ': [34527.2, 1.38688],\n",
       "  'Maximum E (at Z,R  49.9969,0.624269)     ': [41.0329, 2.87406],\n",
       "  'Ratio of peak fields Bmax/Emax            ': 1.0574,\n",
       "  'Peak-to-average ratio Emax/E0             ': 4.8637},\n",
       " 'units': {'Field normalization (NORM  4):     ENORM ': 'MV/m',\n",
       "  'for the integration path from point Z1,R1 ': ['cm', 'cm'],\n",
       "  'to ending point                     Z2,R2 ': ['cm', 'cm'],\n",
       "  'Frequency                                 ': 'MHz',\n",
       "  'Particle rest mass energy                 ': 'MeV',\n",
       "  'Beta   0.9500000          Kinetic energy ': 'MeV',\n",
       "  'Normalization factor for E0   8.437 MV/m ': '',\n",
       "  'Transit-time factor                       ': '',\n",
       "  'Stored energy                             ': 'Joules',\n",
       "  'Superconductor surface resistance         ': 'nanoOhm',\n",
       "  'Operating temperature                     ': 'K',\n",
       "  'Power dissipation                         ': 'mW',\n",
       "  'Q      0.333666E+10      Shunt impedance ': 'MOhm/m',\n",
       "  'Rs*Q     77.635 Ohm                Z*T*T ': 'MOhm/m',\n",
       "  'r/Q     125.424 Ohm  Wake loss parameter ': 'V/pC',\n",
       "  'Average magnetic field on the outer wall  ': ['A/m', 'mW/cm^2'],\n",
       "  'Maximum H (at Z,R  26.2446,18.1086)      ': ['A/m', 'mW/cm^2'],\n",
       "  'Maximum E (at Z,R  49.9969,0.624269)     ': ['MV/m', 'Kilp.'],\n",
       "  'Ratio of peak fields Bmax/Emax            ': 'mT/(MV/m)',\n",
       "  'Peak-to-average ratio Emax/E0             ': ''}}"
      ]
     },
     "execution_count": 22,
     "metadata": {},
     "output_type": "execute_result"
    }
   ],
   "source": [
    "SF.output['sfo']['summary']"
   ]
  },
  {
   "cell_type": "code",
   "execution_count": 25,
   "metadata": {},
   "outputs": [
    {
     "data": {
      "text/plain": [
       "{'Field normalization (NORM  4):     ENORM ': 30.0,\n",
       " 'for the integration path from point Z1,R1 ': [50.5, 0.0],\n",
       " 'to ending point                     Z2,R2 ': [50.51, 0.0],\n",
       " 'Frequency                                 ': 184.64893,\n",
       " 'Particle rest mass energy                 ': 0.510999,\n",
       " 'Beta   0.9500000          Kinetic energy ': 1.126,\n",
       " 'Normalization factor for E0   8.437 MV/m ': 69392.017,\n",
       " 'Transit-time factor                       ': 0.9954521,\n",
       " 'Stored energy                             ': 25.6401094,\n",
       " 'Superconductor surface resistance         ': 23.2674,\n",
       " 'Operating temperature                     ': 4.2,\n",
       " 'Power dissipation                         ': 8915.2681,\n",
       " 'Q      0.333666E+10      Shunt impedance ': 1836220.269,\n",
       " 'Rs*Q     77.635 Ohm                Z*T*T ': 1819556.237,\n",
       " 'r/Q     125.424 Ohm  Wake loss parameter ': 0.03638,\n",
       " 'Average magnetic field on the outer wall  ': [16175.6, 0.304398],\n",
       " 'Maximum H (at Z,R  26.2446,18.1086)      ': [34527.2, 1.38688],\n",
       " 'Maximum E (at Z,R  49.9969,0.624269)     ': [41.0329, 2.87406],\n",
       " 'Ratio of peak fields Bmax/Emax            ': 1.0574,\n",
       " 'Peak-to-average ratio Emax/E0             ': 4.8637}"
      ]
     },
     "execution_count": 25,
     "metadata": {},
     "output_type": "execute_result"
    }
   ],
   "source": [
    "SF.output['sfo']['summary']['data']"
   ]
  },
  {
   "cell_type": "code",
   "execution_count": null,
   "metadata": {},
   "outputs": [],
   "source": []
  }
 ],
 "metadata": {
  "kernelspec": {
   "display_name": "Python 3",
   "language": "python",
   "name": "python3"
  },
  "language_info": {
   "codemirror_mode": {
    "name": "ipython",
    "version": 3
   },
   "file_extension": ".py",
   "mimetype": "text/x-python",
   "name": "python",
   "nbconvert_exporter": "python",
   "pygments_lexer": "ipython3",
   "version": "3.7.7"
  }
 },
 "nbformat": 4,
 "nbformat_minor": 4
}
